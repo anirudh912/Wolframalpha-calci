{
 "cells": [
  {
   "cell_type": "code",
   "execution_count": 5,
   "id": "24a2672a",
   "metadata": {},
   "outputs": [],
   "source": [
    "# Import packages\n",
    "\n",
    "import wolframalpha "
   ]
  },
  {
   "cell_type": "code",
   "execution_count": 20,
   "id": "8c5bddfb",
   "metadata": {},
   "outputs": [],
   "source": [
    "# API initialize\n",
    "\n",
    "app_id = 'Q8YHKX-J92L7R3L59'\n",
    "cl = wolframalpha.Client(app_id)"
   ]
  },
  {
   "cell_type": "code",
   "execution_count": 27,
   "id": "cba390a6",
   "metadata": {},
   "outputs": [
    {
     "name": "stdout",
     "output_type": "stream",
     "text": [
      "Question: d(sin(x))/dx\n"
     ]
    }
   ],
   "source": [
    "# User input\n",
    "\n",
    "q = input('Question: ')"
   ]
  },
  {
   "cell_type": "code",
   "execution_count": 28,
   "id": "b0c1020f",
   "metadata": {},
   "outputs": [
    {
     "name": "stdout",
     "output_type": "stream",
     "text": [
      "d/dx(sin(x)) = cos(x)\n"
     ]
    }
   ],
   "source": [
    "# Query wolframalpha\n",
    "\n",
    "res = cl.query(q)\n",
    "ans = next(res.results).text\n",
    "print(ans)"
   ]
  }
 ],
 "metadata": {
  "kernelspec": {
   "display_name": "Python 3 (ipykernel)",
   "language": "python",
   "name": "python3"
  },
  "language_info": {
   "codemirror_mode": {
    "name": "ipython",
    "version": 3
   },
   "file_extension": ".py",
   "mimetype": "text/x-python",
   "name": "python",
   "nbconvert_exporter": "python",
   "pygments_lexer": "ipython3",
   "version": "3.11.5"
  }
 },
 "nbformat": 4,
 "nbformat_minor": 5
}
